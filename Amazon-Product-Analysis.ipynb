{
 "cells": [
  {
   "cell_type": "markdown",
   "id": "717d233c",
   "metadata": {},
   "source": [
    "# AMAZON PRODUCT ANALYSIS\n"
   ]
  },
  {
   "cell_type": "code",
   "execution_count": 1,
   "id": "144ac538",
   "metadata": {},
   "outputs": [
    {
     "name": "stderr",
     "output_type": "stream",
     "text": [
      "C:\\Users\\dronv\\AppData\\Local\\Temp\\ipykernel_11420\\1503599435.py:8: UserWarning: \n",
      "The dash_html_components package is deprecated. Please replace\n",
      "`import dash_html_components as html` with `from dash import html`\n",
      "  import dash_html_components as html\n",
      "C:\\Users\\dronv\\AppData\\Local\\Temp\\ipykernel_11420\\1503599435.py:9: UserWarning: \n",
      "The dash_core_components package is deprecated. Please replace\n",
      "`import dash_core_components as dcc` with `from dash import dcc`\n",
      "  import dash_core_components as dcc\n"
     ]
    }
   ],
   "source": [
    "from pyspark.sql import SparkSession\n",
    "from pyspark.sql.functions import col, avg, last, isnan, when, count, round\n",
    "from pyspark.sql.types import DoubleType, IntegerType\n",
    "from pyspark.sql.window import Window\n",
    "from pyspark.ml.feature import Imputer\n",
    "import matplotlib.pyplot as plt\n",
    "import dash\n",
    "import dash_html_components as html\n",
    "import dash_core_components as dcc\n",
    "import dash_bootstrap_components as dbc\n",
    "import plotly.express as px\n",
    "import plotly.graph_objects as go"
   ]
  },
  {
   "cell_type": "markdown",
   "id": "5eb09c45",
   "metadata": {},
   "source": [
    "# Starting Spark session and Reading the dataset from hdfs"
   ]
  },
  {
   "cell_type": "code",
   "execution_count": 2,
   "id": "509b7339",
   "metadata": {},
   "outputs": [],
   "source": [
    "# Set up Spark session\n",
    "spark = SparkSession.builder.appName(\"AmazonProductAnalysis\").getOrCreate()\n",
    "\n",
    "# Read dataset from HDFS\n",
    "hdfs_path = \"hdfs://10.0.0.166:9000/Amazon.csv\"\n",
    "df_csv = spark.read.csv(hdfs_path, header=True, inferSchema=True, sep=',')\n"
   ]
  },
  {
   "cell_type": "code",
   "execution_count": 3,
   "id": "ab403407",
   "metadata": {},
   "outputs": [
    {
     "name": "stdout",
     "output_type": "stream",
     "text": [
      "+--------------------+-------------+----------------+-------+-------------+--------------+------------+\n",
      "|                name|main_category|    sub_category|ratings|no_of_ratings|discount_price|actual_price|\n",
      "+--------------------+-------------+----------------+-------+-------------+--------------+------------+\n",
      "|Lloyd 1.5 Ton 3 S...|   appliances|Air Conditioners|    4.2|         2255|         32999|       58990|\n",
      "|LG 1.5 Ton 5 Star...|   appliances|Air Conditioners|    4.2|         2948|         46490|       75990|\n",
      "|LG 1 Ton 4 Star A...|   appliances|Air Conditioners|    4.2|         1206|         34490|       61990|\n",
      "|LG 1.5 Ton 3 Star...|   appliances|Air Conditioners|      4|           69|         37990|       68990|\n",
      "|Carrier 1.5 Ton 3...|   appliances|Air Conditioners|    4.1|          630|         34490|       67790|\n",
      "|Voltas 1.4 Ton 3 ...|   appliances|Air Conditioners|      4|         1666|         31990|       70990|\n",
      "|Lloyd 1.0 Ton 3 S...|   appliances|Air Conditioners|    4.2|         1097|         29999|       49990|\n",
      "|Lloyd 1.5 Ton 5 S...|   appliances|Air Conditioners|    4.3|         1494|         39990|       67990|\n",
      "|Carrier 1 Ton 3 S...|   appliances|Air Conditioners|    4.1|          674|         30990|       58190|\n",
      "|Voltas 1.5 Ton 5 ...|   appliances|Air Conditioners|      4|          801|         37999|       73990|\n",
      "|Daikin 1 Ton 3 St...|   appliances|Air Conditioners|    4.2|          558|         32990|       48200|\n",
      "|Daikin 1.5 Ton 5 ...|   appliances|Air Conditioners|    4.1|          730|         44990|       67200|\n",
      "|Panasonic 1.5 Ton...|   appliances|Air Conditioners|    4.3|         5073|         45990|       63400|\n",
      "|Carrier 1.5 Ton 5...|   appliances|Air Conditioners|      4|          568|         41999|       78490|\n",
      "|Whirlpool 1.5 Ton...|   appliances|Air Conditioners|    3.9|         3670|         31990|       62000|\n",
      "|Samsung 1.5 Ton 3...|   appliances|Air Conditioners|    3.8|          312|         35499|       60990|\n",
      "|Lloyd 1.0 Ton 5 S...|   appliances|Air Conditioners|    4.1|           88|         34000|       57990|\n",
      "|Godrej 1.5 Ton 5 ...|   appliances|Air Conditioners|    4.1|          432|         37490|       54900|\n",
      "|Godrej 1 Ton 3 St...|   appliances|Air Conditioners|    3.9|          268|         29490|       42900|\n",
      "|Daikin 1.5 Ton 3 ...|   appliances|Air Conditioners|    3.5|            2|         39499|       58400|\n",
      "+--------------------+-------------+----------------+-------+-------------+--------------+------------+\n",
      "only showing top 20 rows\n",
      "\n"
     ]
    }
   ],
   "source": [
    "# Show the first few rows of the DataFrame\n",
    "df_csv.show()"
   ]
  },
  {
   "cell_type": "code",
   "execution_count": 4,
   "id": "c4fbb7b0",
   "metadata": {},
   "outputs": [
    {
     "data": {
      "text/plain": [
       "551585"
      ]
     },
     "execution_count": 4,
     "metadata": {},
     "output_type": "execute_result"
    }
   ],
   "source": [
    "df_csv.count()"
   ]
  },
  {
   "cell_type": "markdown",
   "id": "0e3ea6a3",
   "metadata": {},
   "source": [
    "# Reading JSON Dataset from HDFS"
   ]
  },
  {
   "cell_type": "code",
   "execution_count": 5,
   "id": "01cc52d8",
   "metadata": {},
   "outputs": [
    {
     "data": {
      "text/plain": [
       "17175"
      ]
     },
     "execution_count": 5,
     "metadata": {},
     "output_type": "execute_result"
    }
   ],
   "source": [
    "df_json = spark.read.option(\"multiline\",\"true\").json(\"hdfs://10.0.0.166:9000/Amazon.json\")\n",
    "df_json.count()"
   ]
  },
  {
   "cell_type": "markdown",
   "id": "27b130c7",
   "metadata": {},
   "source": [
    "# Merging both csv and json dataframes"
   ]
  },
  {
   "cell_type": "code",
   "execution_count": 6,
   "id": "63545a5f",
   "metadata": {},
   "outputs": [
    {
     "name": "stdout",
     "output_type": "stream",
     "text": [
      "+--------------------+-------------+----------------+-------+-------------+--------------+------------+\n",
      "|                name|main_category|    sub_category|ratings|no_of_ratings|discount_price|actual_price|\n",
      "+--------------------+-------------+----------------+-------+-------------+--------------+------------+\n",
      "|Lloyd 1.5 Ton 3 S...|   appliances|Air Conditioners|    4.2|         2255|         32999|       58990|\n",
      "|LG 1.5 Ton 5 Star...|   appliances|Air Conditioners|    4.2|         2948|         46490|       75990|\n",
      "|LG 1 Ton 4 Star A...|   appliances|Air Conditioners|    4.2|         1206|         34490|       61990|\n",
      "|LG 1.5 Ton 3 Star...|   appliances|Air Conditioners|      4|           69|         37990|       68990|\n",
      "|Carrier 1.5 Ton 3...|   appliances|Air Conditioners|    4.1|          630|         34490|       67790|\n",
      "|Voltas 1.4 Ton 3 ...|   appliances|Air Conditioners|      4|         1666|         31990|       70990|\n",
      "|Lloyd 1.0 Ton 3 S...|   appliances|Air Conditioners|    4.2|         1097|         29999|       49990|\n",
      "|Lloyd 1.5 Ton 5 S...|   appliances|Air Conditioners|    4.3|         1494|         39990|       67990|\n",
      "|Carrier 1 Ton 3 S...|   appliances|Air Conditioners|    4.1|          674|         30990|       58190|\n",
      "|Voltas 1.5 Ton 5 ...|   appliances|Air Conditioners|      4|          801|         37999|       73990|\n",
      "|Daikin 1 Ton 3 St...|   appliances|Air Conditioners|    4.2|          558|         32990|       48200|\n",
      "|Daikin 1.5 Ton 5 ...|   appliances|Air Conditioners|    4.1|          730|         44990|       67200|\n",
      "|Panasonic 1.5 Ton...|   appliances|Air Conditioners|    4.3|         5073|         45990|       63400|\n",
      "|Carrier 1.5 Ton 5...|   appliances|Air Conditioners|      4|          568|         41999|       78490|\n",
      "|Whirlpool 1.5 Ton...|   appliances|Air Conditioners|    3.9|         3670|         31990|       62000|\n",
      "|Samsung 1.5 Ton 3...|   appliances|Air Conditioners|    3.8|          312|         35499|       60990|\n",
      "|Lloyd 1.0 Ton 5 S...|   appliances|Air Conditioners|    4.1|           88|         34000|       57990|\n",
      "|Godrej 1.5 Ton 5 ...|   appliances|Air Conditioners|    4.1|          432|         37490|       54900|\n",
      "|Godrej 1 Ton 3 St...|   appliances|Air Conditioners|    3.9|          268|         29490|       42900|\n",
      "|Daikin 1.5 Ton 3 ...|   appliances|Air Conditioners|    3.5|            2|         39499|       58400|\n",
      "+--------------------+-------------+----------------+-------+-------------+--------------+------------+\n",
      "only showing top 20 rows\n",
      "\n"
     ]
    }
   ],
   "source": [
    "df=df_csv.unionByName(df_json)\n",
    "df.show()"
   ]
  },
  {
   "cell_type": "code",
   "execution_count": 7,
   "id": "a5656874",
   "metadata": {},
   "outputs": [
    {
     "data": {
      "text/plain": [
       "568760"
      ]
     },
     "execution_count": 7,
     "metadata": {},
     "output_type": "execute_result"
    }
   ],
   "source": [
    "df.count()"
   ]
  },
  {
   "cell_type": "markdown",
   "id": "d6bdc730",
   "metadata": {},
   "source": [
    "# Checking Schema of Dataframe and Casting Columns"
   ]
  },
  {
   "cell_type": "code",
   "execution_count": 9,
   "id": "d65c72a2",
   "metadata": {},
   "outputs": [
    {
     "name": "stdout",
     "output_type": "stream",
     "text": [
      "root\n",
      " |-- name: string (nullable = true)\n",
      " |-- main_category: string (nullable = true)\n",
      " |-- sub_category: string (nullable = true)\n",
      " |-- ratings: double (nullable = true)\n",
      " |-- no_of_ratings: integer (nullable = true)\n",
      " |-- discount_price: long (nullable = true)\n",
      " |-- actual_price: long (nullable = true)\n",
      "\n"
     ]
    }
   ],
   "source": [
    "df.printSchema()"
   ]
  },
  {
   "cell_type": "code",
   "execution_count": 10,
   "id": "f2d07632",
   "metadata": {},
   "outputs": [],
   "source": [
    "df = df.withColumn(\"ratings\", df[\"ratings\"].cast(DoubleType()))\n",
    "df = df.withColumn(\"no_of_ratings\", df[\"no_of_ratings\"].cast(IntegerType()))"
   ]
  },
  {
   "cell_type": "markdown",
   "id": "8adb14fe",
   "metadata": {},
   "source": [
    "# Filling NULL values using mean"
   ]
  },
  {
   "cell_type": "code",
   "execution_count": 11,
   "id": "232272ff",
   "metadata": {},
   "outputs": [
    {
     "name": "stdout",
     "output_type": "stream",
     "text": [
      "+----+-------------+------------+-------+-------------+--------------+------------+\n",
      "|name|main_category|sub_category|ratings|no_of_ratings|discount_price|actual_price|\n",
      "+----+-------------+------------+-------+-------------+--------------+------------+\n",
      "|   0|            0|           0| 185285|       185309|         62515|       18243|\n",
      "+----+-------------+------------+-------+-------------+--------------+------------+\n",
      "\n"
     ]
    }
   ],
   "source": [
    "df.select([count(when(isnan(c) | col(c).isNull(), c)).alias(c) for c in df.columns]).show()"
   ]
  },
  {
   "cell_type": "code",
   "execution_count": 12,
   "id": "b254cb14",
   "metadata": {},
   "outputs": [],
   "source": [
    "imputer = Imputer(\n",
    "    inputCols=[\"ratings\", \"no_of_ratings\", \"discount_price\", \"actual_price\"],\n",
    "    outputCols=[\"ratings\", \"no_of_ratings\", \"discount_price\", \"actual_price\"]\n",
    ").setStrategy(\"mean\")\n",
    "\n",
    "df = imputer.fit(df).transform(df)"
   ]
  },
  {
   "cell_type": "code",
   "execution_count": 13,
   "id": "b1db2a86",
   "metadata": {},
   "outputs": [
    {
     "name": "stdout",
     "output_type": "stream",
     "text": [
      "+----+-------------+------------+-------+-------------+--------------+------------+\n",
      "|name|main_category|sub_category|ratings|no_of_ratings|discount_price|actual_price|\n",
      "+----+-------------+------------+-------+-------------+--------------+------------+\n",
      "|   0|            0|           0|      0|            0|             0|           0|\n",
      "+----+-------------+------------+-------+-------------+--------------+------------+\n",
      "\n"
     ]
    }
   ],
   "source": [
    "df.select([count(when(isnan(c) | col(c).isNull(), c)).alias(c) for c in df.columns]).show()"
   ]
  },
  {
   "cell_type": "markdown",
   "id": "7a9cde3d",
   "metadata": {},
   "source": [
    "# Verify Actual Price is Greater than Discount Price"
   ]
  },
  {
   "cell_type": "code",
   "execution_count": 14,
   "id": "2502de02",
   "metadata": {},
   "outputs": [
    {
     "name": "stdout",
     "output_type": "stream",
     "text": [
      "Total Number of Dropped Rows: 26573\n"
     ]
    }
   ],
   "source": [
    "condition_result = df.filter(col(\"actual_price\") > col(\"discount_price\")).count() == df.count()\n",
    "\n",
    "# If the result is False, return the rows where 'actual_price' is smaller than 'discount_price'\n",
    "if not condition_result:\n",
    "    rows_with_actual_price_smaller = df.filter(col(\"actual_price\") <= col(\"discount_price\"))\n",
    "\n",
    "    # Count the number of rows\n",
    "    num_dropped_rows = rows_with_actual_price_smaller.count()\n",
    "\n",
    "    # Drop those rows from the original DataFrame\n",
    "    df = df.filter(col(\"actual_price\") > col(\"discount_price\"))\n",
    "\n",
    "    # Print the total number of dropped rows\n",
    "    print(\"Total Number of Dropped Rows:\", num_dropped_rows)"
   ]
  },
  {
   "cell_type": "markdown",
   "id": "9f2a937e",
   "metadata": {},
   "source": [
    "# Creating Discount Percent Column"
   ]
  },
  {
   "cell_type": "code",
   "execution_count": 15,
   "id": "d03c7cf4",
   "metadata": {},
   "outputs": [],
   "source": [
    "df = df.withColumn(\"discount_percentage\", round((((col(\"actual_price\") - col(\"discount_price\")) / col(\"actual_price\")) * 100), ))\n",
    "# df.show()"
   ]
  },
  {
   "cell_type": "code",
   "execution_count": 16,
   "id": "138af144",
   "metadata": {},
   "outputs": [],
   "source": [
    "df_filtered = df.filter(col('discount_percentage') != 100.00)"
   ]
  },
  {
   "cell_type": "code",
   "execution_count": 17,
   "id": "b14368e6",
   "metadata": {},
   "outputs": [],
   "source": [
    "df_cleaned = df_filtered.filter(col('actual_price') > 0)\n",
    "df = df_cleaned"
   ]
  },
  {
   "cell_type": "code",
   "execution_count": 18,
   "id": "8106c373",
   "metadata": {},
   "outputs": [
    {
     "data": {
      "text/plain": [
       "542177"
      ]
     },
     "execution_count": 18,
     "metadata": {},
     "output_type": "execute_result"
    }
   ],
   "source": [
    "df.count()"
   ]
  },
  {
   "cell_type": "code",
   "execution_count": 19,
   "id": "066524fc",
   "metadata": {},
   "outputs": [
    {
     "name": "stdout",
     "output_type": "stream",
     "text": [
      "root\n",
      " |-- name: string (nullable = true)\n",
      " |-- main_category: string (nullable = true)\n",
      " |-- sub_category: string (nullable = true)\n",
      " |-- ratings: double (nullable = true)\n",
      " |-- no_of_ratings: integer (nullable = true)\n",
      " |-- discount_price: long (nullable = true)\n",
      " |-- actual_price: long (nullable = true)\n",
      " |-- discount_percentage: double (nullable = true)\n",
      "\n"
     ]
    }
   ],
   "source": [
    "df.printSchema()"
   ]
  },
  {
   "cell_type": "markdown",
   "id": "cfa96b30",
   "metadata": {},
   "source": [
    "# PYSPARK SQL "
   ]
  },
  {
   "cell_type": "code",
   "execution_count": 20,
   "id": "02dd42d2",
   "metadata": {},
   "outputs": [],
   "source": [
    "df.createOrReplaceTempView(\"amazon_products\")"
   ]
  },
  {
   "cell_type": "code",
   "execution_count": 21,
   "id": "66a7d51c",
   "metadata": {},
   "outputs": [],
   "source": [
    "###########################DISCOUNT########################\n",
    "\n",
    "# SQL Query for Top 10 Subcategories with the Highest Average Discount Percentage\n",
    "top_subcategories_avg_discount_query = \"\"\"\n",
    "SELECT\n",
    "    sub_category,\n",
    "    AVG(discount_percentage) AS avg_discount_percentage\n",
    "FROM amazon_products\n",
    "GROUP BY sub_category\n",
    "ORDER BY avg_discount_percentage DESC\n",
    "LIMIT 10\n",
    "\"\"\"\n",
    "\n",
    "# SQL Query for Top 5 Main Categories with the Highest Proportion of Discounted Products\n",
    "top_main_categories_discount_proportion_query = \"\"\"\n",
    "SELECT\n",
    "    main_category,\n",
    "    COUNT(*) AS total_products,\n",
    "    SUM(CASE WHEN discount_percentage > 0 THEN 1 ELSE 0 END) AS discounted_products,\n",
    "    (COUNT(*) - SUM(CASE WHEN discount_percentage > 0 THEN 1 ELSE 0 END)) AS non_discounted_products\n",
    "FROM amazon_products\n",
    "GROUP BY main_category\n",
    "ORDER BY (discounted_products / total_products) DESC\n",
    "LIMIT 5\n",
    "\"\"\"\n",
    "# SQL Query for the Lowest Discount Percentage and Corresponding Main Category\n",
    "lowest_discount_query = \"\"\"\n",
    "SELECT\n",
    "    main_category,\n",
    "    MIN(discount_percentage) AS lowest_discount\n",
    "FROM amazon_products\n",
    "GROUP BY main_category\n",
    "ORDER BY lowest_discount ASC\n",
    "LIMIT 1\n",
    "\"\"\"\n",
    "\n",
    "# SQL Query for the Highest Discount Percentage and Corresponding Main Category\n",
    "highest_discount_query = \"\"\"\n",
    "SELECT\n",
    "    main_category,\n",
    "    MAX(discount_percentage) AS highest_discount\n",
    "FROM amazon_products\n",
    "GROUP BY main_category\n",
    "ORDER BY highest_discount DESC\n",
    "LIMIT 1\n",
    "\"\"\"\n",
    "\n",
    "###############################################PRICE #######################################################\n",
    "########################### ACTUAL PRICE ########################\n",
    "\n",
    "# SQL Query for Top 10 Subcategories with the Highest Average Actual Price\n",
    "top_subcategories_avg_actual_price_query = \"\"\"\n",
    "SELECT\n",
    "    sub_category,\n",
    "    AVG(actual_price) AS avg_actual_price\n",
    "FROM amazon_products\n",
    "GROUP BY sub_category\n",
    "ORDER BY avg_actual_price DESC\n",
    "LIMIT 10\n",
    "\"\"\"\n",
    "\n",
    "# SQL Query for Top 5 Main Categories with the Highest Average Actual Price\n",
    "top_main_categories_avg_actual_price_query = \"\"\"\n",
    "SELECT\n",
    "    main_category,\n",
    "    AVG(actual_price) AS avg_actual_price\n",
    "FROM amazon_products\n",
    "GROUP BY main_category\n",
    "ORDER BY avg_actual_price DESC\n",
    "LIMIT 5\n",
    "\"\"\"\n",
    "\n",
    "# SQL Query for the Lowest Actual Price and Corresponding Main Category\n",
    "lowest_actual_price_query = \"\"\"\n",
    "SELECT\n",
    "    main_category,\n",
    "    MIN(actual_price) AS lowest_actual_price\n",
    "FROM amazon_products\n",
    "GROUP BY main_category\n",
    "ORDER BY lowest_actual_price ASC\n",
    "LIMIT 1\n",
    "\"\"\"\n",
    "\n",
    "# SQL Query for the Highest Actual Price and Corresponding Main Category\n",
    "highest_actual_price_query = \"\"\"\n",
    "SELECT\n",
    "    main_category,\n",
    "    MAX(actual_price) AS highest_actual_price\n",
    "FROM amazon_products\n",
    "GROUP BY main_category\n",
    "ORDER BY highest_actual_price DESC\n",
    "LIMIT 1\n",
    "\"\"\"\n",
    "\n",
    "########################### RATINGS ########################\n",
    "\n",
    "# SQL Query for Top 10 Subcategories with the Highest Average Ratings\n",
    "top_subcategories_avg_ratings_query = \"\"\"\n",
    "SELECT\n",
    "    sub_category,\n",
    "    AVG(ratings) AS avg_ratings\n",
    "FROM amazon_products\n",
    "GROUP BY sub_category\n",
    "ORDER BY avg_ratings DESC\n",
    "LIMIT 10\n",
    "\"\"\"\n",
    "\n",
    "# SQL Query for Top 5 Main Categories with the Highest Average Ratings\n",
    "top_main_categories_avg_ratings_query = \"\"\"\n",
    "SELECT\n",
    "    main_category,\n",
    "    AVG(ratings) AS avg_ratings\n",
    "FROM amazon_products\n",
    "GROUP BY main_category\n",
    "ORDER BY avg_ratings DESC\n",
    "LIMIT 5\n",
    "\"\"\"\n",
    "\n",
    "# SQL Query for the Lowest Ratings and Corresponding Main Category\n",
    "lowest_ratings_query = \"\"\"\n",
    "SELECT\n",
    "    main_category,\n",
    "    MIN(ratings) AS lowest_ratings\n",
    "FROM amazon_products\n",
    "GROUP BY main_category\n",
    "ORDER BY lowest_ratings ASC\n",
    "LIMIT 1\n",
    "\"\"\"\n",
    "\n",
    "# SQL Query for the Highest Ratings and Corresponding Main Category\n",
    "highest_ratings_query = \"\"\"\n",
    "SELECT\n",
    "    main_category,\n",
    "    MAX(ratings) AS highest_ratings\n",
    "FROM amazon_products\n",
    "GROUP BY main_category\n",
    "ORDER BY highest_ratings DESC\n",
    "LIMIT 1\n",
    "\"\"\"\n",
    "\n",
    "############################## POPULARITY ##############################\n",
    "\n",
    "# SQL Query for Top 10 Subcategories with the Highest Count of Ratings (Popularity)\n",
    "top_subcategories_popularity_query = \"\"\"\n",
    "SELECT\n",
    "    sub_category,\n",
    "    COUNT(ratings) AS ratings_count\n",
    "FROM amazon_products\n",
    "GROUP BY sub_category\n",
    "ORDER BY ratings_count DESC\n",
    "LIMIT 10\n",
    "\"\"\"\n",
    "\n",
    "# SQL Query for Top 5 Main Categories with the Highest Count of Ratings (Popularity)\n",
    "top_main_categories_popularity_query = \"\"\"\n",
    "SELECT\n",
    "    main_category,\n",
    "    COUNT(ratings) AS ratings_count\n",
    "FROM amazon_products\n",
    "GROUP BY main_category\n",
    "ORDER BY ratings_count DESC\n",
    "LIMIT 5\n",
    "\"\"\"\n"
   ]
  },
  {
   "cell_type": "code",
   "execution_count": 22,
   "id": "d2321c6f",
   "metadata": {},
   "outputs": [],
   "source": [
    "# Execute Spark SQL queries\n",
    "top_subcategories_avg_discount = spark.sql(top_subcategories_avg_discount_query).toPandas()\n",
    "top_main_categories_discount_proportion = spark.sql(top_main_categories_discount_proportion_query).toPandas()\n",
    "lowest_discount = spark.sql(lowest_discount_query).toPandas()\n",
    "highest_discount = spark.sql(highest_discount_query).toPandas()\n",
    "\n",
    "top_subcategories_avg_actual_price = spark.sql(top_subcategories_avg_actual_price_query).toPandas()\n",
    "top_main_categories_avg_actual_price = spark.sql(top_main_categories_avg_actual_price_query).toPandas()\n",
    "lowest_actual_price = spark.sql(lowest_actual_price_query).toPandas()\n",
    "highest_actual_price = spark.sql(highest_actual_price_query).toPandas()\n",
    "\n",
    "top_subcategories_avg_ratings = spark.sql(top_subcategories_avg_ratings_query).toPandas()\n",
    "top_main_categories_avg_ratings = spark.sql(top_main_categories_avg_ratings_query).toPandas()\n",
    "lowest_ratings = spark.sql(lowest_ratings_query).toPandas()\n",
    "highest_ratings = spark.sql(highest_ratings_query).toPandas()\n",
    "\n",
    "top_subcategories_popularity = spark.sql(top_subcategories_popularity_query).toPandas()\n",
    "top_main_categories_popularity = spark.sql(top_main_categories_popularity_query).toPandas()"
   ]
  },
  {
   "cell_type": "markdown",
   "id": "6b00e929",
   "metadata": {},
   "source": [
    "# DASHBOARD USING DASH"
   ]
  },
  {
   "cell_type": "code",
   "execution_count": 23,
   "id": "6c2e62da",
   "metadata": {
    "scrolled": true
   },
   "outputs": [
    {
     "data": {
      "text/html": [
       "\n",
       "        <iframe\n",
       "            width=\"100%\"\n",
       "            height=\"650\"\n",
       "            src=\"http://127.0.0.1:8050/\"\n",
       "            frameborder=\"0\"\n",
       "            allowfullscreen\n",
       "            \n",
       "        ></iframe>\n",
       "        "
      ],
      "text/plain": [
       "<IPython.lib.display.IFrame at 0x225083b4fd0>"
      ]
     },
     "metadata": {},
     "output_type": "display_data"
    }
   ],
   "source": [
    "# Create Dash app\n",
    "app = dash.Dash(__name__, external_stylesheets=[dbc.themes.BOOTSTRAP])\n",
    "\n",
    "app.layout = html.Div(children=[\n",
    "    # Navbar\n",
    "    html.Nav(\n",
    "        children=[\n",
    "            html.A('Amazon Product Analysis', href='#discount', className='nav-link', style={'margin-left':'2px','margin-right': '600px',\n",
    "                                                                                    'font-weight': 'bold','color':'orange'}),\n",
    "            html.A('Discount', href='#discount', className='nav-link', style={'margin-right': '10px', 'font-weight': 'bold', 'color':'white'}),\n",
    "            html.A('Price', href='#price', className='nav-link', style={'margin-right': '10px', 'font-weight': 'bold','color':'white'}),\n",
    "            html.A('Ratings', href='#ratings', className='nav-link', style={'margin-right': '10px', 'font-weight': 'bold','color':'white'}),\n",
    "            html.A('Popularity', href='#popularity', className='nav-link', style={'color':'white','font-weight': 'bold'}),\n",
    "        ],\n",
    "        className='navbar navbar-expand-lg navbar-dark bg-dark',\n",
    "        style={'position':'sticky','top': '0','z-index':'3'}\n",
    "    ),\n",
    "\n",
    "    # Content\n",
    "    html.H1(\"Dashboard\"),\n",
    "    html.Hr(),\n",
    "    # Discount Section\n",
    "    html.Section(\n",
    "        id='discount',\n",
    "        children=[\n",
    "            html.H2(\"Discount Analysis\",style={'color': 'orange'}),\n",
    "            dcc.Graph(figure=px.bar(top_subcategories_avg_discount, x='sub_category', y='avg_discount_percentage',\n",
    "                                    title='Top 10 Subcategories with the Highest Average Discount Percentage')),\n",
    "            dcc.Graph(figure=px.bar(top_main_categories_discount_proportion, x='main_category',\n",
    "                                    y='discounted_products', color='discounted_products',\n",
    "                                    title='Top 5 Main Categories - Discount Proportion')),\n",
    "              html.H3(\"Lowest Discount Category\"),\n",
    "            dbc.Table.from_dataframe(lowest_discount, striped=True, bordered=True, hover=True),\n",
    "            html.H3(\"Highest Discount Category\"),\n",
    "            dbc.Table.from_dataframe(highest_discount, striped=True, bordered=True, hover=True)\n",
    "        ]\n",
    "    ),\n",
    "    html.Hr(),\n",
    "    # Price Section\n",
    "    html.Section(\n",
    "        id='price',\n",
    "        children=[\n",
    "            html.H2(\"Price Analysis\",style={'color': 'orange'}),\n",
    "            dcc.Graph(figure=px.bar(top_subcategories_avg_actual_price, x='sub_category', y='avg_actual_price',\n",
    "                                    title='Top 10 Subcategories with the Highest Average Actual Price')),\n",
    "            dcc.Graph(figure=px.bar(top_main_categories_avg_actual_price, x='main_category', y='avg_actual_price',\n",
    "                                    title='Top 5 Main Categories with the Highest Average Actual Price')),\n",
    "            html.H3(\"Lowest Price Category\"),\n",
    "            dbc.Table.from_dataframe(lowest_actual_price, striped=True, bordered=True, hover=True),\n",
    "            html.H3(\"Highest Price Category\"),\n",
    "            dbc.Table.from_dataframe(highest_actual_price, striped=True, bordered=True, hover=True)\n",
    "        ]\n",
    "    ),\n",
    "    html.Hr(),\n",
    "\n",
    "    # Ratings Section\n",
    "    html.Section(\n",
    "        id='ratings',\n",
    "        children=[\n",
    "            html.H2(\"Ratings Analysis\",style={'color': 'orange'}),\n",
    "            dcc.Graph(figure=px.bar(top_subcategories_avg_ratings, x='sub_category', y='avg_ratings',\n",
    "                                    title='Top 10 Subcategories with the Highest Average Ratings')),\n",
    "            dcc.Graph(figure=px.bar(top_main_categories_avg_ratings, x='main_category', y='avg_ratings',\n",
    "                                    title='Top 5 Main Categories with the Highest Average Ratings')),\n",
    "             html.H3(\"Lowest Rating Category\"),\n",
    "            dbc.Table.from_dataframe(lowest_ratings, striped=True, bordered=True, hover=True),\n",
    "             html.H3(\"Highest Rating Category\"),\n",
    "            dbc.Table.from_dataframe(highest_ratings, striped=True, bordered=True, hover=True),\n",
    "            \n",
    "        ]\n",
    "    ),\n",
    "    html.Hr(),\n",
    "    # Popularity Section\n",
    "    html.Section(\n",
    "        id='popularity',\n",
    "        children=[\n",
    "            html.H2(\"Popularity Analysis\",style={'color': 'orange'}),\n",
    "            dcc.Graph(figure=px.bar(top_subcategories_popularity, x='sub_category', y='ratings_count',\n",
    "                                    title='Top 10 Subcategories with the Highest Count of Ratings (Popularity)')),\n",
    "            dcc.Graph(figure=px.bar(top_main_categories_popularity, x='main_category', y='ratings_count',\n",
    "                                    title='Top 5 Main Categories with the Highest Count of Ratings (Popularity)'))\n",
    "        ]\n",
    "    ),\n",
    "])\n",
    "\n",
    "html.Hr()\n",
    "\n",
    "# Run the app\n",
    "if __name__ == '__main__':\n",
    "    app.run_server(debug=True)\n"
   ]
  },
  {
   "cell_type": "code",
   "execution_count": null,
   "id": "ce5af38f",
   "metadata": {},
   "outputs": [],
   "source": []
  }
 ],
 "metadata": {
  "kernelspec": {
   "display_name": "Python 3 (ipykernel)",
   "language": "python",
   "name": "python3"
  },
  "language_info": {
   "codemirror_mode": {
    "name": "ipython",
    "version": 3
   },
   "file_extension": ".py",
   "mimetype": "text/x-python",
   "name": "python",
   "nbconvert_exporter": "python",
   "pygments_lexer": "ipython3",
   "version": "3.11.5"
  }
 },
 "nbformat": 4,
 "nbformat_minor": 5
}
